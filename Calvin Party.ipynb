{
 "cells": [
  {
   "cell_type": "markdown",
   "metadata": {},
   "source": [
    "## Importing some schtuff\n",
    "### Using simpy for the simulation"
   ]
  },
  {
   "cell_type": "code",
   "execution_count": 1,
   "metadata": {},
   "outputs": [],
   "source": [
    "import simpy\n",
    "import random\n",
    "import statistics"
   ]
  },
  {
   "cell_type": "code",
   "execution_count": 2,
   "metadata": {},
   "outputs": [],
   "source": [
    "r = 0.68 # constant for males\n",
    "drink_alcohol = 14.0 # 14 grams of alcohol per 'standard' size drink\n",
    "\n",
    "def get_user_input():\n",
    "    \"\"\" Get user inputs needed for the simulation \"\"\"\n",
    "    weight = float(input('Enter weight in pounds: '))\n",
    "    weight *= 454.0 # convert to grams\n",
    "    print(f'Weight is {weight} in grams')\n",
    "    \n",
    "    party_hours = int(input('Enter party time in hours: '))\n",
    "    party_minutes = party_hours * 60\n",
    "    print(f'Party will be {party_minutes} minutes long')\n",
    "    \n",
    "    return (weight, party_minutes)"
   ]
  },
  {
   "cell_type": "code",
   "execution_count": 39,
   "metadata": {},
   "outputs": [],
   "source": [
    "def calculate_bac(total_drinks, current_time):\n",
    "    \"\"\" Use the Widmark formula to calculate BAC (assuming male bc bachelor party) \"\"\"\n",
    "    if total_drinks == 0:\n",
    "        return 0\n",
    "    \n",
    "    total_alcohol = total_drinks * drink_alcohol\n",
    "    bac_decay = 0\n",
    "    bac_decay = current_time / 60 * 0.015\n",
    "    bac = total_alcohol / (weight *  r) * 100 - bac_decay\n",
    "    return bac"
   ]
  },
  {
   "cell_type": "code",
   "execution_count": 19,
   "metadata": {},
   "outputs": [],
   "source": [
    "class Party:\n",
    "    def __init__(self, env):\n",
    "        self.env = env\n",
    "        self.calvin = simpy.Resource(env, 1)\n",
    "        self.drinks = 0\n",
    "        self.things_done = 0\n",
    "        \n",
    "    def do_fun_thing(self, ft):\n",
    "        temp_desc = ft.desc\n",
    "        marker_count = ft.desc.count('?')\n",
    "        for i in range(0, marker_count):\n",
    "            temp_desc = temp_desc.replace('?', random.choice(bachelors), 1)\n",
    "        print(temp_desc)\n",
    "        yield self.env.timeout(ft.duration)\n",
    "        self.drinks += ft.drinks\n",
    "        bac = calculate_bac(self.drinks, self.env.now)\n",
    "        print(f'    Current time is {self.env.now}')\n",
    "        print(f'    You\\'ve had {self.drinks} drinks')\n",
    "        print(f'    Your current bac is {bac} ;)')\n",
    "        self.things_done += 1"
   ]
  },
  {
   "cell_type": "code",
   "execution_count": 10,
   "metadata": {},
   "outputs": [],
   "source": [
    "class FunThing:\n",
    "    def __init__(self, duration, drinks, desc):\n",
    "        self.duration = duration\n",
    "        self.drinks = drinks\n",
    "        self.desc = desc"
   ]
  },
  {
   "cell_type": "code",
   "execution_count": 6,
   "metadata": {},
   "outputs": [],
   "source": [
    "def start_fun_thing(env, ft, party):\n",
    "    with party.calvin.request() as request:\n",
    "        yield request\n",
    "        yield env.process(party.do_fun_thing(ft))"
   ]
  },
  {
   "cell_type": "code",
   "execution_count": 7,
   "metadata": {},
   "outputs": [],
   "source": [
    "bachelors = [ 'Logan', 'Vishal', 'Nathan', 'Naveen', 'Cal', 'Preston', 'Trevor', 'Veijay' ]\n",
    "fun_things = [\n",
    "    FunThing(30, 0, '? challenges you to a round of Smash Bros'),\n",
    "    FunThing(15, 0, 'You play Twister with ? and ?'),\n",
    "    FunThing(5, 1, '? pours you a shot of Kraken. Bottoms up!'),\n",
    "    FunThing(30, 3, 'The whole party plays Boom. You get the boom cup ¯\\_(ツ)_/¯'),\n",
    "    FunThing(15, 0, 'You play some Rocket League with ? and reach Grand Champion #dagger #obese #quitoutofrespect'),\n",
    "    FunThing(10, 0, '? starts telling you about his favorite craft beer. You drink one to appease him'),\n",
    "    FunThing(20, 2, 'You go to grab a beer from the fridge and get Iced by ?. Two for the price of one!'),\n",
    "    FunThing(30, 1, 'You try a new beer with ? and it\\'s awesome'),\n",
    "    FunThing(5, 1, '? pours you a shot of Kraken. Bottoms up!'),\n",
    "    FunThing(30, 1, 'The whole party plays Boom. ? gets the boom cup'),\n",
    "]"
   ]
  },
  {
   "cell_type": "code",
   "execution_count": 8,
   "metadata": {},
   "outputs": [],
   "source": [
    "def run_party(env):\n",
    "    party = Party(env)\n",
    "    for _ in range(3):\n",
    "        ft = random.choice(fun_things)\n",
    "        env.process(start_fun_thing(env, ft, party))\n",
    "        \n",
    "    while True:\n",
    "        yield env.timeout(1)\n",
    "        ft = random.choice(fun_things)\n",
    "        env.process(start_fun_thing(env, ft, party))\n",
    "        "
   ]
  },
  {
   "cell_type": "code",
   "execution_count": 21,
   "metadata": {},
   "outputs": [
    {
     "name": "stdout",
     "output_type": "stream",
     "text": [
      "Enter weight in pounds: 180\n",
      "Weight is 81720.0 in grams\n",
      "Enter party time in hours: 4\n",
      "Party will be 240 minutes long\n"
     ]
    }
   ],
   "source": [
    "weight, time_minutes = get_user_input()"
   ]
  },
  {
   "cell_type": "code",
   "execution_count": 60,
   "metadata": {},
   "outputs": [
    {
     "name": "stdout",
     "output_type": "stream",
     "text": [
      "You try a new beer with Vishal and it's awesome\n",
      "    Current time is 30\n",
      "    You've had 1 drinks\n",
      "    Your current bac is 0.017693631050070543 ;)\n",
      "Trevor starts telling you about his favorite craft beer. You drink one to appease him\n",
      "    Current time is 40\n",
      "    You've had 1 drinks\n",
      "    Your current bac is 0.015193631050070544 ;)\n",
      "Preston starts telling you about his favorite craft beer. You drink one to appease him\n",
      "    Current time is 50\n",
      "    You've had 1 drinks\n",
      "    Your current bac is 0.012693631050070542 ;)\n",
      "The whole party plays Boom. Nathan gets the boom cup\n",
      "    Current time is 80\n",
      "    You've had 2 drinks\n",
      "    Your current bac is 0.030387262100141088 ;)\n",
      "The whole party plays Boom. Veijay gets the boom cup\n",
      "    Current time is 110\n",
      "    You've had 3 drinks\n",
      "    Your current bac is 0.04808089315021162 ;)\n",
      "The whole party plays Boom. You get the boom cup ¯\\_(ツ)_/¯\n",
      "    Current time is 140\n",
      "    You've had 6 drinks\n",
      "    Your current bac is 0.11616178630042323 ;)\n",
      "Logan pours you a shot of Kraken. Bottoms up!\n",
      "    Current time is 145\n",
      "    You've had 7 drinks\n",
      "    Your current bac is 0.14010541735049376 ;)\n",
      "You go to grab a beer from the fridge and get Iced by Trevor. Two for the price of one!\n",
      "    Current time is 165\n",
      "    You've had 9 drinks\n",
      "    Your current bac is 0.18549267945063486 ;)\n",
      "You play some Rocket League with Trevor and reach Grand Champion #dagger #obese #quitoutofrespect\n",
      "    Current time is 180\n",
      "    You've had 9 drinks\n",
      "    Your current bac is 0.18174267945063488 ;)\n",
      "You play Twister with Naveen and Nathan\n",
      "    Current time is 195\n",
      "    You've had 9 drinks\n",
      "    Your current bac is 0.17799267945063485 ;)\n",
      "Preston challenges you to a round of Smash Bros\n",
      "    Current time is 225\n",
      "    You've had 9 drinks\n",
      "    Your current bac is 0.17049267945063487 ;)\n",
      "Trevor pours you a shot of Kraken. Bottoms up!\n",
      "    Current time is 230\n",
      "    You've had 10 drinks\n",
      "    Your current bac is 0.19443631050070542 ;)\n",
      "You play some Rocket League with Nathan and reach Grand Champion #dagger #obese #quitoutofrespect\n"
     ]
    }
   ],
   "source": [
    "env = simpy.Environment()\n",
    "env.process(run_party(env))\n",
    "env.run(until=time_minutes)\n"
   ]
  }
 ],
 "metadata": {
  "kernelspec": {
   "display_name": "Python 3",
   "language": "python",
   "name": "python3"
  },
  "language_info": {
   "codemirror_mode": {
    "name": "ipython",
    "version": 3
   },
   "file_extension": ".py",
   "mimetype": "text/x-python",
   "name": "python",
   "nbconvert_exporter": "python",
   "pygments_lexer": "ipython3",
   "version": "3.8.5"
  }
 },
 "nbformat": 4,
 "nbformat_minor": 4
}
