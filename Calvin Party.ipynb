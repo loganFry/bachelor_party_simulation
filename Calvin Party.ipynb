{
 "cells": [
  {
   "cell_type": "markdown",
   "metadata": {},
   "source": [
    "# Welcome to the Calvin at a Party Simulation!\n",
    "![Whoah](jurassic_park_gif.gif \"Whoah\")\n",
    "\n",
    "## Why?\n",
    "As PhD Calvin, I felt I had to get into my role and crank out a simulation. After all, we know that all theoretical physicists really do is mess around in simulations ;)\n",
    "\n",
    "## What does it do? \n",
    "This simulation simulates Calvin having fun at the bachelor party. There is a large bank of fun things that will randomly happen to him during the party with his bachelors. Each event will last for a certain number of time in the party and could involve Calvin taking 1 (or more!) drinks. The simulation will calculate Calvin's BAC over the course of the party and display it after each event occurs so we can track his \"progress\". The simulation ends once the length of the party in hours has been reached. Hope you enjoy!\n",
    "\n",
    "![Cheers](cheers_gif.gif \"Cheers\")"
   ]
  },
  {
   "cell_type": "markdown",
   "metadata": {},
   "source": [
    "## Simpy is used to run the simulation"
   ]
  },
  {
   "cell_type": "code",
   "execution_count": 1,
   "metadata": {},
   "outputs": [],
   "source": [
    "import simpy\n",
    "import random\n",
    "import statistics"
   ]
  },
  {
   "cell_type": "markdown",
   "metadata": {},
   "source": [
    "## Getting user input"
   ]
  },
  {
   "cell_type": "code",
   "execution_count": 2,
   "metadata": {},
   "outputs": [],
   "source": [
    "def get_user_input():\n",
    "    \"\"\" Get user inputs needed for the simulation \"\"\"\n",
    "    \n",
    "    # Get Calvin's weight for the simulation (didn't know this lol)\n",
    "    weight = float(input('Enter weight in pounds: '))\n",
    "    weight *= 454.0 # convert to grams\n",
    "    print(f'Weight is {weight} in grams')\n",
    "    \n",
    "    # How long we partying????\n",
    "    party_hours = int(input('Enter party time in hours: '))\n",
    "    party_minutes = party_hours * 60\n",
    "    print(f'Party will be {party_minutes} minutes long')\n",
    "    \n",
    "    return (weight, party_minutes)"
   ]
  },
  {
   "cell_type": "markdown",
   "metadata": {},
   "source": [
    "## Calculating Calvin's BAC"
   ]
  },
  {
   "cell_type": "code",
   "execution_count": 3,
   "metadata": {},
   "outputs": [],
   "source": [
    "def calculate_bac(total_drinks, current_time):\n",
    "    \"\"\" Use the Widmark formula to calculate BAC \"\"\"\n",
    "    \n",
    "    if total_drinks == 0:\n",
    "        return 0\n",
    "    \n",
    "    r = 0.68 # constant for males, assuming male bc bachelor party\n",
    "    drink_alcohol = 14.0 # 14 grams of alcohol per 'standard' size drink\n",
    "    total_alcohol = total_drinks * drink_alcohol\n",
    "    bac_decay = 0\n",
    "    bac_decay = current_time / 60 * 0.015\n",
    "    bac = total_alcohol / (weight *  r) * 100 - bac_decay\n",
    "    return bac"
   ]
  },
  {
   "cell_type": "markdown",
   "metadata": {},
   "source": [
    "## Defining the Party\n",
    "![mcconaughey](mcconaughey.gif \"Alright Alright Alright\")"
   ]
  },
  {
   "cell_type": "code",
   "execution_count": 4,
   "metadata": {},
   "outputs": [],
   "source": [
    "class Party:\n",
    "    \"\"\" Class representing the party environment. Includes the man himself and how many drinks he's consumed ;) \"\"\"\n",
    "    \n",
    "    def __init__(self, env):\n",
    "        self.env = env\n",
    "        self.calvin = simpy.Resource(env, 1)\n",
    "        self.drinks = 0\n",
    "        self.things_done = 0\n",
    "        \n",
    "    def do_fun_thing(self, ft):\n",
    "        \"\"\" Update current state of simulation based on the incoming Fun Thing \"\"\"\n",
    "        \n",
    "        # Fill in placeholder #'s in description using random bachelor names\n",
    "        temp_desc = ft.desc\n",
    "        marker_count = ft.desc.count('#')\n",
    "        for i in range(0, marker_count):\n",
    "            temp_desc = temp_desc.replace('#', random.choice(bachelors), 1)\n",
    "        print(temp_desc)\n",
    "        \n",
    "        # Update simulation time based on event duration\n",
    "        yield self.env.timeout(ft.duration)\n",
    "        \n",
    "        # Update number of drinks consumed and calculate BAC\n",
    "        self.drinks += ft.drinks\n",
    "        bac = calculate_bac(self.drinks, self.env.now)\n",
    "        print(f'    Current time is {self.env.now}')\n",
    "        print(f'    You\\'ve had {self.drinks} drinks')\n",
    "        print(f'    Your current bac is {bac} ;)')\n",
    "        self.things_done += 1"
   ]
  },
  {
   "cell_type": "markdown",
   "metadata": {},
   "source": [
    "## Having some FUN\n",
    "![fun](fun.gif \"fun\")"
   ]
  },
  {
   "cell_type": "code",
   "execution_count": 5,
   "metadata": {},
   "outputs": [],
   "source": [
    "class FunThing:\n",
    "    \"\"\" Class to represent any Fun Thing that could happen during the party \"\"\"\n",
    "    \n",
    "    def __init__(self, duration, drinks, desc):\n",
    "        self.duration = duration\n",
    "        self.drinks = drinks\n",
    "        self.desc = desc"
   ]
  },
  {
   "cell_type": "code",
   "execution_count": 6,
   "metadata": {},
   "outputs": [],
   "source": [
    "def start_fun_thing(env, ft, party):\n",
    "    \"\"\" Fire off a new Fun Thing to be processed by the Calvin resource \"\"\"\n",
    "    with party.calvin.request() as request:\n",
    "        yield request\n",
    "        yield env.process(party.do_fun_thing(ft))"
   ]
  },
  {
   "cell_type": "code",
   "execution_count": 11,
   "metadata": {},
   "outputs": [],
   "source": [
    "bachelors = [ 'Logan', 'Vishal', 'Nathan', 'Naveen', 'Cal', 'Preston', 'Trevor', 'Veijay' ] # the all stars\n",
    "fun_things = [\n",
    "    FunThing(30, 0, '# challenges you to a round of Smash Bros'),\n",
    "    FunThing(15, 0, 'You play Twister with # and #. You\\'re all limbered up and ready to party'),\n",
    "    FunThing(5, 1, '# pours you a shot of Kraken. Bottoms up!'),\n",
    "    FunThing(30, 3, 'The whole party plays Boom. You get the boom cup ¯\\_(ツ)_/¯'),\n",
    "    FunThing(15, 0, 'You play some Rocket League with # and reach Grand Champion. Quit. Out. Of. Respect.'),\n",
    "    FunThing(10, 0, '# starts telling you about his favorite craft beer. You drink one to appease him'),\n",
    "    FunThing(20, 2, 'You go to grab a beer from the fridge and get Iced by #. Two for the price of one!'),\n",
    "    FunThing(30, 1, 'You try a new beer with # and it\\'s awesome'),\n",
    "    FunThing(30, 1, 'The whole party plays Boom. # gets the boom cup'),\n",
    "    FunThing(30, 2, 'Pokemon Sorry! Innocent right? Wrong. We play with Cal\\'s drinking rules'),\n",
    "    FunThing(60, 0, 'We play Settlers of Catan. Your monopoly on bricks brings home the dub'),\n",
    "    \n",
    "    \n",
    "]"
   ]
  },
  {
   "cell_type": "markdown",
   "metadata": {},
   "source": [
    "## Starting the party!"
   ]
  },
  {
   "cell_type": "code",
   "execution_count": 8,
   "metadata": {},
   "outputs": [],
   "source": [
    "def run_party(env):\n",
    "    \"\"\" Function to continually pick new Fun Things during the party \"\"\"\n",
    "    \n",
    "    party = Party(env)\n",
    "\n",
    "    while True:\n",
    "        yield env.timeout(1)\n",
    "        ft = random.choice(fun_things)\n",
    "        env.process(start_fun_thing(env, ft, party))\n",
    "        "
   ]
  },
  {
   "cell_type": "code",
   "execution_count": 9,
   "metadata": {},
   "outputs": [
    {
     "name": "stdout",
     "output_type": "stream",
     "text": [
      "Enter weight in pounds: 180\n",
      "Weight is 81720.0 in grams\n",
      "Enter party time in hours: 4\n",
      "Party will be 240 minutes long\n"
     ]
    }
   ],
   "source": [
    "weight, time_minutes = get_user_input()"
   ]
  },
  {
   "cell_type": "code",
   "execution_count": 34,
   "metadata": {},
   "outputs": [
    {
     "name": "stdout",
     "output_type": "stream",
     "text": [
      "You play some Rocket League with Vishal and reach Grand Champion. Quit. Out. Of. Respect.\n",
      "    Current time is 16\n",
      "    You've had 0 drinks\n",
      "    Your current bac is 0 ;)\n",
      "You play Twister with Veijay and Vishal. You're all limbered up and ready to party\n",
      "    Current time is 31\n",
      "    You've had 0 drinks\n",
      "    Your current bac is 0 ;)\n",
      "The whole party plays Boom. Trevor gets the boom cup\n",
      "    Current time is 61\n",
      "    You've had 1 drinks\n",
      "    Your current bac is 0.009943631050070545 ;)\n",
      "We play Settlers of Catan. Your monopoly on bricks brings home the dub\n",
      "    Current time is 121\n",
      "    You've had 1 drinks\n",
      "    Your current bac is -0.005056368949929457 ;)\n",
      "The whole party plays Boom. You get the boom cup ¯\\_(ツ)_/¯\n",
      "    Current time is 151\n",
      "    You've had 4 drinks\n",
      "    Your current bac is 0.06302452420028218 ;)\n",
      "Logan starts telling you about his favorite craft beer. You drink one to appease him\n",
      "    Current time is 161\n",
      "    You've had 4 drinks\n",
      "    Your current bac is 0.060524524200282176 ;)\n",
      "Pokemon Sorry! Innocent right? Wrong. We play with Cal's drinking rules\n",
      "    Current time is 191\n",
      "    You've had 6 drinks\n",
      "    Your current bac is 0.10341178630042325 ;)\n",
      "The whole party plays Boom. Trevor gets the boom cup\n",
      "    Current time is 221\n",
      "    You've had 7 drinks\n",
      "    Your current bac is 0.12110541735049377 ;)\n",
      "Logan pours you a shot of Kraken. Bottoms up!\n",
      "    Current time is 226\n",
      "    You've had 8 drinks\n",
      "    Your current bac is 0.14504904840056435 ;)\n",
      "We play Settlers of Catan. Your monopoly on bricks brings home the dub\n"
     ]
    }
   ],
   "source": [
    "# Let's get this party rollingggg\n",
    "env = simpy.Environment() # simulation environment\n",
    "env.process(run_party(env))\n",
    "env.run(until=time_minutes) # run until we reach our time limit\n"
   ]
  }
 ],
 "metadata": {
  "kernelspec": {
   "display_name": "Python 3",
   "language": "python",
   "name": "python3"
  },
  "language_info": {
   "codemirror_mode": {
    "name": "ipython",
    "version": 3
   },
   "file_extension": ".py",
   "mimetype": "text/x-python",
   "name": "python",
   "nbconvert_exporter": "python",
   "pygments_lexer": "ipython3",
   "version": "3.8.5"
  }
 },
 "nbformat": 4,
 "nbformat_minor": 4
}
