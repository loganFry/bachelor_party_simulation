{
 "cells": [
  {
   "cell_type": "markdown",
   "metadata": {},
   "source": [
    "## Importing some schtuff\n",
    "### Using simpy for the simulation"
   ]
  },
  {
   "cell_type": "code",
   "execution_count": 1,
   "metadata": {},
   "outputs": [],
   "source": [
    "import simpy\n",
    "import random\n",
    "import statistics"
   ]
  },
  {
   "cell_type": "code",
   "execution_count": 2,
   "metadata": {},
   "outputs": [],
   "source": [
    "r = 0.68 # constant for males\n",
    "drink_alcohol = 14.0 # 14 grams of alcohol per 'standard' size drink\n",
    "\n",
    "def get_user_input():\n",
    "    \"\"\" Get user inputs needed for the simulation \"\"\"\n",
    "    weight = float(input('Enter weight in pounds: '))\n",
    "    weight *= 454.0 # convert to grams\n",
    "    print(f'Weight is {weight} in grams')\n",
    "    \n",
    "    party_hours = int(input('Enter party time in hours: '))\n",
    "    party_minutes = party_hours * 60\n",
    "    print(f'Party will be {party_minutes} minutes long')\n",
    "    \n",
    "    return (weight, party_minutes)"
   ]
  },
  {
   "cell_type": "code",
   "execution_count": 3,
   "metadata": {},
   "outputs": [],
   "source": [
    "def calculate_bac(total_drinks, current_time):\n",
    "    \"\"\" Use the Widmark formula to calculate BAC (assuming male bc bachelor party) \"\"\"\n",
    "    total_alcohol = total_drinks * drink_alcohol\n",
    "    bac_decay = current_time / 60 * 0.015\n",
    "    bac = total_alcohol / (weight *  r) * 100 - bac_decay\n",
    "    return bac"
   ]
  },
  {
   "cell_type": "code",
   "execution_count": 19,
   "metadata": {},
   "outputs": [],
   "source": [
    "class Party:\n",
    "    def __init__(self, env):\n",
    "        self.env = env\n",
    "        self.calvin = simpy.Resource(env, 1)\n",
    "        self.drinks = 0\n",
    "        self.things_done = 0\n",
    "        \n",
    "    def do_fun_thing(self, ft):\n",
    "        temp_desc = ft.desc\n",
    "        marker_count = ft.desc.count('?')\n",
    "        for i in range(0, marker_count):\n",
    "            temp_desc = temp_desc.replace('?', random.choice(bachelors), 1)\n",
    "        print(temp_desc)\n",
    "        yield self.env.timeout(ft.duration)\n",
    "        self.drinks += ft.drinks\n",
    "        bac = calculate_bac(self.drinks, self.env.now)\n",
    "        print(f'    Current time is {self.env.now}')\n",
    "        print(f'    You\\'ve had {self.drinks} drinks')\n",
    "        print(f'    Your current bac is {bac} ;)')\n",
    "        self.things_done += 1"
   ]
  },
  {
   "cell_type": "code",
   "execution_count": 10,
   "metadata": {},
   "outputs": [],
   "source": [
    "class FunThing:\n",
    "    def __init__(self, duration, drinks, desc):\n",
    "        self.duration = duration\n",
    "        self.drinks = drinks\n",
    "        self.desc = desc"
   ]
  },
  {
   "cell_type": "code",
   "execution_count": 6,
   "metadata": {},
   "outputs": [],
   "source": [
    "def start_fun_thing(env, ft, party):\n",
    "    with party.calvin.request() as request:\n",
    "        yield request\n",
    "        yield env.process(party.do_fun_thing(ft))"
   ]
  },
  {
   "cell_type": "code",
   "execution_count": 7,
   "metadata": {},
   "outputs": [],
   "source": [
    "bachelors = [ 'Logan', 'Vishal', 'Nathan', 'Naveen', 'Cal', 'Preston', 'Trevor', 'Veijay' ]\n",
    "fun_things = [\n",
    "    FunThing(30, 0, '? challenges you to a round of Smash Bros'),\n",
    "    FunThing(15, 0, 'You play Twister with ? and ?'),\n",
    "    FunThing(5, 1, '? pours you a shot of Kraken. Bottoms up!'),\n",
    "    FunThing(30, 3, 'The whole party plays Boom. You get the boom cup ¯\\_(ツ)_/¯'),\n",
    "    FunThing(15, 0, 'You play some Rocket League with ? and reach Grand Champion #dagger #obese #quitoutofrespect'),\n",
    "    FunThing(10, 0, '? starts telling you about his favorite craft beer. You drink one to appease him'),\n",
    "    FunThing(20, 2, 'You go to grab a beer from the fridge and get Iced by ?. Two for the price of one!'),\n",
    "    FunThing(30, 1, 'You try a new beer with ? and it\\'s awesome'),\n",
    "    FunThing(5, 1, '? pours you a shot of Kraken. Bottoms up!'),\n",
    "    FunThing(30, 1, 'The whole party plays Boom. ? gets the boom cup'),\n",
    "]"
   ]
  },
  {
   "cell_type": "code",
   "execution_count": 8,
   "metadata": {},
   "outputs": [],
   "source": [
    "def run_party(env):\n",
    "    party = Party(env)\n",
    "    for _ in range(3):\n",
    "        ft = random.choice(fun_things)\n",
    "        env.process(start_fun_thing(env, ft, party))\n",
    "        \n",
    "    while True:\n",
    "        yield env.timeout(1)\n",
    "        ft = random.choice(fun_things)\n",
    "        env.process(start_fun_thing(env, ft, party))\n",
    "        "
   ]
  },
  {
   "cell_type": "code",
   "execution_count": 21,
   "metadata": {},
   "outputs": [
    {
     "name": "stdout",
     "output_type": "stream",
     "text": [
      "Enter weight in pounds: 180\n",
      "Weight is 81720.0 in grams\n",
      "Enter party time in hours: 4\n",
      "Party will be 240 minutes long\n"
     ]
    }
   ],
   "source": [
    "weight, time_minutes = get_user_input()"
   ]
  },
  {
   "cell_type": "code",
   "execution_count": 24,
   "metadata": {},
   "outputs": [
    {
     "name": "stdout",
     "output_type": "stream",
     "text": [
      "Naveen starts telling you about his favorite craft beer. You drink one to appease him\n",
      "    Current time is 10\n",
      "    You've had 0 drinks\n",
      "    Your current bac is -0.0024999999999999996 ;)\n",
      "You play Twister with Preston and Veijay\n",
      "    Current time is 25\n",
      "    You've had 0 drinks\n",
      "    Your current bac is -0.00625 ;)\n",
      "The whole party plays Boom. Naveen gets the boom cup\n",
      "    Current time is 55\n",
      "    You've had 1 drinks\n",
      "    Your current bac is 0.011443631050070544 ;)\n",
      "Preston pours you a shot of Kraken. Bottoms up!\n",
      "    Current time is 60\n",
      "    You've had 2 drinks\n",
      "    Your current bac is 0.035387262100141086 ;)\n",
      "You go to grab a beer from the fridge and get Iced by Preston. Two for the price of one!\n",
      "    Current time is 80\n",
      "    You've had 4 drinks\n",
      "    Your current bac is 0.08077452420028217 ;)\n",
      "Preston pours you a shot of Kraken. Bottoms up!\n",
      "    Current time is 85\n",
      "    You've had 5 drinks\n",
      "    Your current bac is 0.1047181552503527 ;)\n",
      "Cal pours you a shot of Kraken. Bottoms up!\n",
      "    Current time is 90\n",
      "    You've had 6 drinks\n",
      "    Your current bac is 0.12866178630042324 ;)\n",
      "You play Twister with Logan and Veijay\n",
      "    Current time is 105\n",
      "    You've had 6 drinks\n",
      "    Your current bac is 0.12491178630042324 ;)\n",
      "You play some Rocket League with Cal and reach Grand Champion #dagger #obese #quitoutofrespect\n",
      "    Current time is 120\n",
      "    You've had 6 drinks\n",
      "    Your current bac is 0.12116178630042324 ;)\n",
      "The whole party plays Boom. Vishal gets the boom cup\n",
      "    Current time is 150\n",
      "    You've had 7 drinks\n",
      "    Your current bac is 0.13885541735049375 ;)\n",
      "You play Twister with Preston and Nathan\n",
      "    Current time is 165\n",
      "    You've had 7 drinks\n",
      "    Your current bac is 0.13510541735049375 ;)\n",
      "You play some Rocket League with Logan and reach Grand Champion #dagger #obese #quitoutofrespect\n",
      "    Current time is 180\n",
      "    You've had 7 drinks\n",
      "    Your current bac is 0.13135541735049377 ;)\n",
      "Naveen starts telling you about his favorite craft beer. You drink one to appease him\n",
      "    Current time is 190\n",
      "    You've had 7 drinks\n",
      "    Your current bac is 0.12885541735049377 ;)\n",
      "You play Twister with Veijay and Preston\n",
      "    Current time is 205\n",
      "    You've had 7 drinks\n",
      "    Your current bac is 0.12510541735049377 ;)\n",
      "The whole party plays Boom. You get the boom cup ¯\\_(ツ)_/¯\n",
      "    Current time is 235\n",
      "    You've had 10 drinks\n",
      "    Your current bac is 0.19318631050070542 ;)\n",
      "You play some Rocket League with Veijay and reach Grand Champion #dagger #obese #quitoutofrespect\n"
     ]
    }
   ],
   "source": [
    "env = simpy.Environment()\n",
    "env.process(run_party(env))\n",
    "env.run(until=time_minutes)\n"
   ]
  }
 ],
 "metadata": {
  "kernelspec": {
   "display_name": "Python 3",
   "language": "python",
   "name": "python3"
  },
  "language_info": {
   "codemirror_mode": {
    "name": "ipython",
    "version": 3
   },
   "file_extension": ".py",
   "mimetype": "text/x-python",
   "name": "python",
   "nbconvert_exporter": "python",
   "pygments_lexer": "ipython3",
   "version": "3.8.5"
  }
 },
 "nbformat": 4,
 "nbformat_minor": 4
}
